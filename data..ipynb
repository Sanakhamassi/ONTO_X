{
 "cells": [
  {
   "cell_type": "code",
   "execution_count": 10,
   "id": "34d9a209",
   "metadata": {},
   "outputs": [
    {
     "name": "stdout",
     "output_type": "stream",
     "text": [
      "                                Class ID          Preferred Label  \\\n",
      "0          http://entity/CST/HYPOCHLOREM            HYPOCHLOREMIA   \n",
      "1      http://entity/CST/EXTRAPYR%20SYND  EXTRAPYRAMIDAL SYNDROME   \n",
      "2  http://entity/CST/VASCULITIS%20KIDNEY        KIDNEY VASCULITIS   \n",
      "3            http://entity/CST/SKIN/DERM               Dermatoses   \n",
      "4       http://entity/CST/FIBRO%20KIDNEY          KIDNEY FIBROSIS   \n",
      "\n",
      "                                             Parents  \n",
      "0  http://entity/CST/METGEN|http://entity/CST/MAN...  \n",
      "1                          http://entity/CST/NERMOVE  \n",
      "2  http://entity/CST/PATHCOLLAGEN|http://entity/C...  \n",
      "3                                                NaN  \n",
      "4  http://entity/CST/UG/UT/K/M|http://entity/CST/...  \n",
      "<class 'pandas.core.frame.DataFrame'>\n",
      "RangeIndex: 1707 entries, 0 to 1706\n",
      "Data columns (total 3 columns):\n",
      " #   Column           Non-Null Count  Dtype \n",
      "---  ------           --------------  ----- \n",
      " 0   Class ID         1707 non-null   object\n",
      " 1   Preferred Label  1707 non-null   object\n",
      " 2   Parents          1672 non-null   object\n",
      "dtypes: object(3)\n",
      "memory usage: 40.1+ KB\n",
      "None\n"
     ]
    }
   ],
   "source": [
    "import pandas as pd\n",
    "import networkx as nx\n",
    "\n",
    "df = pd.read_csv(\"./data/onto_x.csv\")\n",
    "\n",
    "print(df.head())\n",
    "print(df.info())"
   ]
  },
  {
   "cell_type": "code",
   "execution_count": 11,
   "id": "5689edd0",
   "metadata": {},
   "outputs": [
    {
     "name": "stdout",
     "output_type": "stream",
     "text": [
      "Entities without parents:\n",
      "                              Class ID  \\\n",
      "3          http://entity/CST/SKIN/DERM   \n",
      "24         http://entity/CST/SKIN/SBGL   \n",
      "102              http://entity/CST/IOS   \n",
      "103    http://entity/CST/STENO%20ESOPH   \n",
      "105        http://entity/CST/SKIN/SUBQ   \n",
      "108        http://entity/CST/SKIN/HAIR   \n",
      "190              http://entity/CST/FBC   \n",
      "236              http://entity/CST/FET   \n",
      "283              http://entity/CST/FDU   \n",
      "344    http://entity/CST/ENDO/PIT/POST   \n",
      "362              http://entity/CST/TTT   \n",
      "458              http://entity/CST/OOT   \n",
      "463              http://entity/CST/MTD   \n",
      "478         http://entity/CST/SKIN/PIG   \n",
      "572              http://entity/CST/TTO   \n",
      "580     http://entity/CST/ENDO/PIT/ANT   \n",
      "614              http://entity/CST/NAI   \n",
      "750              http://entity/CST/OTT   \n",
      "759              http://entity/CST/IBM   \n",
      "825             http://entity/STY/T071   \n",
      "868              http://entity/CST/TOT   \n",
      "871        http://entity/CST/SKIN/NAIL   \n",
      "874              http://entity/CST/MBC   \n",
      "883      http://entity/CST/ESOPHAGITIS   \n",
      "941              http://entity/CST/OTO   \n",
      "945              http://entity/CST/MWN   \n",
      "975             http://entity/STY/T051   \n",
      "984              http://entity/CST/ISY   \n",
      "994              http://entity/CST/TOO   \n",
      "1025  http://entity/CST/PARATHYR%20DIS   \n",
      "1103             http://entity/CST/OUN   \n",
      "1199           http://entity/CST/TERAT   \n",
      "1285        http://entity/CST/SKIN/GEN   \n",
      "1500   http://entity/CST/ULCER%20ESOPH   \n",
      "1657       http://entity/CST/SKIN/SWGL   \n",
      "\n",
      "                                        Preferred Label  \n",
      "3                                            Dermatoses  \n",
      "24                            Sebaceous Gland Disorders  \n",
      "102     Drug Exposure to Infant one month to six months  \n",
      "103                                 ESOPHAGEAL STENOSIS  \n",
      "105                              Subcutaneous Disorders  \n",
      "108                                      Hair Disorders  \n",
      "190           Drug Exposure to Father before conception  \n",
      "236                                     Fetal Disorders  \n",
      "283            Drug Exposure to Fetus directly in utero  \n",
      "344                                           Posterior  \n",
      "362           Drug Exposure to Mother in all trimesters  \n",
      "458          Drug Exposure to Mother in third trimester  \n",
      "463         Drug Exposure to Mother at time of delivery  \n",
      "478                              Pigmentation Disorders  \n",
      "572   Drug Exposure to Mother in first and second tr...  \n",
      "580                                            Anterior  \n",
      "614                      Neonatal and Infancy Disorders  \n",
      "750   Drug Exposure to Mother in second and third tr...  \n",
      "759          Drug Exposure to Infant birth to one month  \n",
      "825                                              Entity  \n",
      "868   Drug Exposure to Mother in first and third tri...  \n",
      "871                                      Nail Disorders  \n",
      "874           Drug Exposure to Mother before conception  \n",
      "883                                         ESOPHAGITIS  \n",
      "941         Drug Exposure to Mother in second trimester  \n",
      "945               Drug Exposure to Mother while nursing  \n",
      "975                                               Event  \n",
      "984     Drug Exposure to Infant six months to two years  \n",
      "994   Drug Exposure to Mother in first trimester of ...  \n",
      "1025                               PARATHYROID DISORDER  \n",
      "1103                    Drug Exposure, other or unknown  \n",
      "1199                           Congenital Malformations  \n",
      "1285        Skin Disorders, General, Functional and NEC  \n",
      "1500                                   ESOPHAGEAL ULCER  \n",
      "1657                              Sweat Gland Disorders  \n"
     ]
    }
   ],
   "source": [
    "no_parents = df[df['Parents'].isna() | (df['Parents'] == '')]\n",
    "print(\"Entities without parents:\")\n",
    "print(no_parents[['Class ID', 'Preferred Label']])\n"
   ]
  },
  {
   "cell_type": "code",
   "execution_count": 12,
   "id": "937a47f1",
   "metadata": {},
   "outputs": [
    {
     "name": "stdout",
     "output_type": "stream",
     "text": [
      "Cycles detected (potential infinite loop):\n",
      "[['http://entity/CST/HEM', 'http://entity/CST/HEMHMRG']]\n"
     ]
    }
   ],
   "source": [
    "import networkx as nx\n",
    "import pandas as pd\n",
    "\n",
    "# Build graph safely\n",
    "G = nx.DiGraph()\n",
    "for _, row in df.iterrows():\n",
    "    child = row['Class ID'].strip()\n",
    "    parents_raw = str(row['Parents']).strip()\n",
    "    if parents_raw and parents_raw.lower() != 'nan':  \n",
    "        # Split by '|', strip each parent\n",
    "        parents = [p.strip() for p in parents_raw.split('|') if p.strip()]\n",
    "        for parent in parents:\n",
    "            G.add_edge(child, parent)\n",
    "\n",
    "# Detect cycles\n",
    "cycles = list(nx.simple_cycles(G))\n",
    "if cycles:\n",
    "    print(\"Cycles detected (potential infinite loop):\")\n",
    "    print(cycles)\n",
    "else:\n",
    "    print(\"No cycles detected, DFS safe to use.\")\n"
   ]
  },
  {
   "cell_type": "code",
   "execution_count": 13,
   "id": "8a3b07ac",
   "metadata": {},
   "outputs": [
    {
     "name": "stdout",
     "output_type": "stream",
     "text": [
      "Cycles detected? True\n"
     ]
    }
   ],
   "source": [
    "def dfs_check_cycle(node, visited=None, rec_stack=None):\n",
    "    if visited is None:\n",
    "        visited = set()\n",
    "    if rec_stack is None:\n",
    "        rec_stack = set()\n",
    "    if node in rec_stack:\n",
    "        return True  # cycle detected\n",
    "    rec_stack.add(node)\n",
    "    # Follow parents (edges going from child to parent)\n",
    "    for parent in G.successors(node):\n",
    "        if dfs_check_cycle(parent, visited, rec_stack):\n",
    "            return True\n",
    "    rec_stack.remove(node)\n",
    "    visited.add(node)\n",
    "    return False\n",
    "\n",
    "# Check all nodes\n",
    "has_cycle = False\n",
    "for node in G.nodes():\n",
    "    if dfs_check_cycle(node):\n",
    "        has_cycle = True\n",
    "        break\n",
    "\n",
    "print(\"Cycles detected?\" , has_cycle)\n"
   ]
  },
  {
   "cell_type": "code",
   "execution_count": null,
   "id": "41820587",
   "metadata": {},
   "outputs": [],
   "source": []
  }
 ],
 "metadata": {
  "kernelspec": {
   "display_name": ".venv",
   "language": "python",
   "name": "python3"
  },
  "language_info": {
   "codemirror_mode": {
    "name": "ipython",
    "version": 3
   },
   "file_extension": ".py",
   "mimetype": "text/x-python",
   "name": "python",
   "nbconvert_exporter": "python",
   "pygments_lexer": "ipython3",
   "version": "3.12.0"
  }
 },
 "nbformat": 4,
 "nbformat_minor": 5
}
