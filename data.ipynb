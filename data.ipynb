{
 "cells": [
  {
   "cell_type": "code",
   "execution_count": 9,
   "id": "34d9a209",
   "metadata": {},
   "outputs": [
    {
     "name": "stdout",
     "output_type": "stream",
     "text": [
      "Dataset Preview\n",
      "                                Class ID          Preferred Label  \\\n",
      "0          http://entity/CST/HYPOCHLOREM            HYPOCHLOREMIA   \n",
      "1      http://entity/CST/EXTRAPYR%20SYND  EXTRAPYRAMIDAL SYNDROME   \n",
      "2  http://entity/CST/VASCULITIS%20KIDNEY        KIDNEY VASCULITIS   \n",
      "3            http://entity/CST/SKIN/DERM               Dermatoses   \n",
      "4       http://entity/CST/FIBRO%20KIDNEY          KIDNEY FIBROSIS   \n",
      "\n",
      "                                             Parents  \n",
      "0  http://entity/CST/METGEN|http://entity/CST/MAN...  \n",
      "1                          http://entity/CST/NERMOVE  \n",
      "2  http://entity/CST/PATHCOLLAGEN|http://entity/C...  \n",
      "3                                                NaN  \n",
      "4  http://entity/CST/UG/UT/K/M|http://entity/CST/...  \n"
     ]
    }
   ],
   "source": [
    "import pandas as pd\n",
    "import networkx as nx\n",
    "issues = []\n",
    "df = pd.read_csv(\"data/onto_x.csv\", names=[\"Class ID\", \"Preferred Label\", \"Parents\"], header=0)\n",
    "print(\"Dataset Preview\")\n",
    "print(df.head())"
   ]
  },
  {
   "cell_type": "code",
   "execution_count": 13,
   "id": "02c724b7",
   "metadata": {},
   "outputs": [
    {
     "name": "stdout",
     "output_type": "stream",
     "text": [
      "Empty Class IDs:\n",
      "Empty DataFrame\n",
      "Columns: [Class ID, Preferred Label, Parents]\n",
      "Index: []\n"
     ]
    }
   ],
   "source": [
    "#Empty Class IDs\n",
    "empty_ids = df[df[\"Class ID\"].isna() | (df[\"Class ID\"].str.strip() == \"\")]\n",
    "print(\"Empty Class IDs:\")\n",
    "print(empty_ids.to_string(index=False))"
   ]
  },
  {
   "cell_type": "code",
   "execution_count": 14,
   "id": "07bc5da6",
   "metadata": {},
   "outputs": [
    {
     "name": "stdout",
     "output_type": "stream",
     "text": [
      "Empty Labels:\n",
      "Empty DataFrame\n",
      "Columns: [Class ID, Preferred Label, Parents]\n",
      "Index: []\n"
     ]
    }
   ],
   "source": [
    "#Empty Labels\n",
    "empty_labels = df[df[\"Preferred Label\"].isna() | (df[\"Preferred Label\"].str.strip() == \"\")]\n",
    "print(\"Empty Labels:\")\n",
    "print(empty_labels.to_string(index=False))"
   ]
  },
  {
   "cell_type": "code",
   "execution_count": 11,
   "id": "5689edd0",
   "metadata": {},
   "outputs": [
    {
     "name": "stdout",
     "output_type": "stream",
     "text": [
      "Entities without parents:\n",
      "                              Class ID  \\\n",
      "3          http://entity/CST/SKIN/DERM   \n",
      "24         http://entity/CST/SKIN/SBGL   \n",
      "102              http://entity/CST/IOS   \n",
      "103    http://entity/CST/STENO%20ESOPH   \n",
      "105        http://entity/CST/SKIN/SUBQ   \n",
      "108        http://entity/CST/SKIN/HAIR   \n",
      "190              http://entity/CST/FBC   \n",
      "236              http://entity/CST/FET   \n",
      "283              http://entity/CST/FDU   \n",
      "344    http://entity/CST/ENDO/PIT/POST   \n",
      "362              http://entity/CST/TTT   \n",
      "458              http://entity/CST/OOT   \n",
      "463              http://entity/CST/MTD   \n",
      "478         http://entity/CST/SKIN/PIG   \n",
      "572              http://entity/CST/TTO   \n",
      "580     http://entity/CST/ENDO/PIT/ANT   \n",
      "614              http://entity/CST/NAI   \n",
      "750              http://entity/CST/OTT   \n",
      "759              http://entity/CST/IBM   \n",
      "825             http://entity/STY/T071   \n",
      "868              http://entity/CST/TOT   \n",
      "871        http://entity/CST/SKIN/NAIL   \n",
      "874              http://entity/CST/MBC   \n",
      "883      http://entity/CST/ESOPHAGITIS   \n",
      "941              http://entity/CST/OTO   \n",
      "945              http://entity/CST/MWN   \n",
      "975             http://entity/STY/T051   \n",
      "984              http://entity/CST/ISY   \n",
      "994              http://entity/CST/TOO   \n",
      "1025  http://entity/CST/PARATHYR%20DIS   \n",
      "1103             http://entity/CST/OUN   \n",
      "1199           http://entity/CST/TERAT   \n",
      "1285        http://entity/CST/SKIN/GEN   \n",
      "1500   http://entity/CST/ULCER%20ESOPH   \n",
      "1657       http://entity/CST/SKIN/SWGL   \n",
      "\n",
      "                                        Preferred Label  \n",
      "3                                            Dermatoses  \n",
      "24                            Sebaceous Gland Disorders  \n",
      "102     Drug Exposure to Infant one month to six months  \n",
      "103                                 ESOPHAGEAL STENOSIS  \n",
      "105                              Subcutaneous Disorders  \n",
      "108                                      Hair Disorders  \n",
      "190           Drug Exposure to Father before conception  \n",
      "236                                     Fetal Disorders  \n",
      "283            Drug Exposure to Fetus directly in utero  \n",
      "344                                           Posterior  \n",
      "362           Drug Exposure to Mother in all trimesters  \n",
      "458          Drug Exposure to Mother in third trimester  \n",
      "463         Drug Exposure to Mother at time of delivery  \n",
      "478                              Pigmentation Disorders  \n",
      "572   Drug Exposure to Mother in first and second tr...  \n",
      "580                                            Anterior  \n",
      "614                      Neonatal and Infancy Disorders  \n",
      "750   Drug Exposure to Mother in second and third tr...  \n",
      "759          Drug Exposure to Infant birth to one month  \n",
      "825                                              Entity  \n",
      "868   Drug Exposure to Mother in first and third tri...  \n",
      "871                                      Nail Disorders  \n",
      "874           Drug Exposure to Mother before conception  \n",
      "883                                         ESOPHAGITIS  \n",
      "941         Drug Exposure to Mother in second trimester  \n",
      "945               Drug Exposure to Mother while nursing  \n",
      "975                                               Event  \n",
      "984     Drug Exposure to Infant six months to two years  \n",
      "994   Drug Exposure to Mother in first trimester of ...  \n",
      "1025                               PARATHYROID DISORDER  \n",
      "1103                    Drug Exposure, other or unknown  \n",
      "1199                           Congenital Malformations  \n",
      "1285        Skin Disorders, General, Functional and NEC  \n",
      "1500                                   ESOPHAGEAL ULCER  \n",
      "1657                              Sweat Gland Disorders  \n"
     ]
    }
   ],
   "source": [
    "no_parents = df[df['Parents'].isna() | (df['Parents'] == '')]\n",
    "print(\"Entities without parents:\")\n",
    "print(no_parents[['Class ID', 'Preferred Label']])\n"
   ]
  },
  {
   "cell_type": "code",
   "execution_count": 16,
   "id": "1ffae391",
   "metadata": {},
   "outputs": [
    {
     "name": "stdout",
     "output_type": "stream",
     "text": [
      "Missing Parent References:\n",
      "- http://entity/CST/SKIN/DERM -> nan\n",
      "- http://entity/CST/SKIN/SBGL -> nan\n",
      "- http://entity/CST/MS -> http://www.w3.org/2002/07/owl#Thing\n",
      "- http://entity/CST/IOS -> nan\n",
      "- http://entity/CST/STENO%20ESOPH -> nan\n",
      "- http://entity/CST/SKIN/SUBQ -> nan\n",
      "- http://entity/CST/SKIN/HAIR -> nan\n",
      "- http://entity/CST/DIG -> http://www.w3.org/2002/07/owl#Thing\n",
      "- http://entity/CST/FBC -> nan\n",
      "- http://entity/CST/NER -> http://www.w3.org/2002/07/owl#Thing\n",
      "- http://entity/CST/MAN -> http://www.w3.org/2002/07/owl#Thing\n",
      "- http://entity/CST/FET -> nan\n",
      "- http://entity/CST/UG -> http://www.w3.org/2002/07/owl#Thing\n",
      "- http://entity/CST/FDU -> nan\n",
      "- http://entity/CST/ENDO/PIT/POST -> nan\n",
      "- http://entity/CST/TTT -> nan\n",
      "- http://entity/CST/ENDO -> http://www.w3.org/2002/07/owl#Thing\n",
      "- http://entity/CST/OOT -> nan\n",
      "- http://entity/CST/GU -> http://www.w3.org/2002/07/owl#Thing\n",
      "- http://entity/CST/MTD -> nan\n",
      "- http://entity/CST/SKIN/PIG -> nan\n",
      "- http://entity/CST/ANS -> http://www.w3.org/2002/07/owl#Thing\n",
      "- http://entity/CST/SS -> http://www.w3.org/2002/07/owl#Thing\n",
      "- http://entity/CST/TTO -> nan\n",
      "- http://entity/CST/ENDO/PIT/ANT -> nan\n",
      "- http://entity/CST/NAI -> nan\n",
      "- http://entity/CST/SKIN -> http://www.w3.org/2002/07/owl#Thing\n",
      "- http://entity/CST/OTT -> nan\n",
      "- http://entity/CST/IBM -> nan\n",
      "- http://entity/CST/MATFET -> http://www.w3.org/2002/07/owl#Thing\n",
      "- http://entity/STY/T071 -> nan\n",
      "- http://entity/CST/TOT -> nan\n",
      "- http://entity/CST/SKIN/NAIL -> nan\n",
      "- http://entity/CST/MBC -> nan\n",
      "- http://entity/CST/ESOPHAGITIS -> nan\n",
      "- http://entity/CST/OTO -> nan\n",
      "- http://entity/CST/MWN -> nan\n",
      "- http://entity/STY/T051 -> nan\n",
      "- http://entity/CST/ISY -> nan\n",
      "- http://entity/CST/GI -> http://www.w3.org/2002/07/owl#Thing\n",
      "- http://entity/CST/TOO -> nan\n",
      "- http://entity/CST/PARATHYR%20DIS -> nan\n",
      "- http://entity/CST/CV -> http://www.w3.org/2002/07/owl#Thing\n",
      "- http://entity/CST/OUN -> nan\n",
      "- http://entity/CST/RES -> http://www.w3.org/2002/07/owl#Thing\n",
      "- http://entity/CST/RETIC -> http://www.w3.org/2002/07/owl#Thing\n",
      "- http://entity/CST/OPH -> http://www.w3.org/2002/07/owl#Thing\n",
      "- http://entity/CST/TERAT -> nan\n",
      "- http://entity/CST/SKIN/GEN -> nan\n",
      "- http://entity/CST/BODY -> http://www.w3.org/2002/07/owl#Thing\n",
      "- http://entity/CST/PULM -> http://www.w3.org/2002/07/owl#Thing\n",
      "- http://entity/CST/PATH -> http://www.w3.org/2002/07/owl#Thing\n",
      "- http://entity/CST/ULCER%20ESOPH -> nan\n",
      "- http://entity/CST/MET -> http://www.w3.org/2002/07/owl#Thing\n",
      "- http://entity/CST/RENAL -> http://www.w3.org/2002/07/owl#Thing\n",
      "- http://entity/CST/GYN -> http://www.w3.org/2002/07/owl#Thing\n",
      "- http://entity/CST/GEN -> http://www.w3.org/2002/07/owl#Thing\n",
      "- http://entity/CST/HEM -> http://www.w3.org/2002/07/owl#Thing\n",
      "- http://entity/CST/SKIN/SWGL -> nan\n",
      "- http://entity/CST/HAL -> http://www.w3.org/2002/07/owl#Thing\n"
     ]
    }
   ],
   "source": [
    "graph = {row[\"Class ID\"]: [p.strip() for p in str(row[\"Parents\"]).split(\"|\") if p.strip()] \n",
    "         for _, row in df.iterrows()}\n",
    "\n",
    "all_ids = set(df[\"Class ID\"])\n",
    "\n",
    "# No Parents\n",
    "missing_refs = []\n",
    "for cid, parents in graph.items():\n",
    "    for parent in parents:\n",
    "        if parent not in all_ids:\n",
    "            missing_refs.append((cid, parent))\n",
    "\n",
    "print(\"Missing Parent References:\")\n",
    "for cid, parent in missing_refs:\n",
    "    print(f\"- {cid} -> {parent}\")\n"
   ]
  },
  {
   "cell_type": "code",
   "execution_count": 18,
   "id": "937a47f1",
   "metadata": {},
   "outputs": [
    {
     "name": "stdout",
     "output_type": "stream",
     "text": [
      "Cycles detected (potential infinite loop):\n",
      "[['http://entity/CST/HEMHMRG', 'http://entity/CST/HEM']]\n"
     ]
    }
   ],
   "source": [
    "import networkx as nx\n",
    "import pandas as pd\n",
    "\n",
    "# Build graph safely\n",
    "G = nx.DiGraph()\n",
    "for _, row in df.iterrows():\n",
    "    child = row['Class ID'].strip()\n",
    "    parents_raw = str(row['Parents']).strip()\n",
    "    if parents_raw and parents_raw.lower() != 'nan':  \n",
    "        # Split by '|', strip each parent\n",
    "        parents = [p.strip() for p in parents_raw.split('|') if p.strip()]\n",
    "        for parent in parents:\n",
    "            G.add_edge(child, parent)\n",
    "\n",
    "# Detect cycles\n",
    "cycles = list(nx.simple_cycles(G))\n",
    "if cycles:\n",
    "    print(\"Cycles detected (potential infinite loop):\")\n",
    "    print(cycles)\n",
    "else:\n",
    "    print(\"No cycles detected, DFS safe to use.\")\n"
   ]
  },
  {
   "cell_type": "code",
   "execution_count": 20,
   "id": "41820587",
   "metadata": {},
   "outputs": [
    {
     "name": "stdout",
     "output_type": "stream",
     "text": [
      "🔄 Cycles found:\n",
      "\n",
      "Cycle detected:\n",
      "- http://entity/CST/LEUKOCYTE%20VACUOL | LEUKOCYTE VACUOLIZATION\n",
      "- http://entity/CST/HEMWBCABN | WBC ABNORMALITY\n",
      "- http://entity/CST/HEM | HEMORRHAGE\n",
      "- http://entity/CST/HEMHMRG | HEMORRHAGE\n",
      "- http://entity/CST/HEM | HEMORRHAGE\n"
     ]
    }
   ],
   "source": [
    "# Cycles detection\n",
    "\n",
    "def detect_cycles(graph):\n",
    "    visited, stack = set(), set()\n",
    "    cycles = []\n",
    "\n",
    "    def dfs(node, path):\n",
    "        if node in stack:\n",
    "            cycles.append(path + [node])  # cycle found\n",
    "            return\n",
    "        if node in visited:\n",
    "            return\n",
    "        visited.add(node)\n",
    "        stack.add(node)\n",
    "        for p in graph.get(node, []):\n",
    "            if p in graph:  # only traverse valid parents\n",
    "                dfs(p, path + [node])\n",
    "        stack.remove(node)\n",
    "\n",
    "    for n in graph:\n",
    "        dfs(n, [])\n",
    "    return cycles\n",
    "\n",
    "cycles = detect_cycles(graph)\n",
    "\n",
    "print(\"🔄 Cycles found:\")\n",
    "if not cycles:\n",
    "    print(\"✅ No cycles detected\")\n",
    "else:\n",
    "    for cycle in cycles:\n",
    "        print(\"\\nCycle detected:\")\n",
    "        for cid in cycle:\n",
    "            row = df[df[\"Class ID\"] == cid].iloc[0]\n",
    "            print(f\"- {cid} | {row['Preferred Label']}\")\n"
   ]
  },
  {
   "cell_type": "code",
   "execution_count": null,
   "id": "2f0b8b65",
   "metadata": {},
   "outputs": [],
   "source": []
  }
 ],
 "metadata": {
  "kernelspec": {
   "display_name": ".venv",
   "language": "python",
   "name": "python3"
  },
  "language_info": {
   "codemirror_mode": {
    "name": "ipython",
    "version": 3
   },
   "file_extension": ".py",
   "mimetype": "text/x-python",
   "name": "python",
   "nbconvert_exporter": "python",
   "pygments_lexer": "ipython3",
   "version": "3.12.0"
  }
 },
 "nbformat": 4,
 "nbformat_minor": 5
}
